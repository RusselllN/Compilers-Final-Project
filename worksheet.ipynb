{
 "cells": [
  {
   "cell_type": "markdown",
   "id": "f2dd921e-534b-4e5c-9c36-492f72910813",
   "metadata": {
    "editable": false
   },
   "source": [
    "# Assignment 3"
   ]
  },
  {
   "cell_type": "code",
   "execution_count": 1,
   "id": "5717a6e1-13b5-464b-9244-fdec8411cd5f",
   "metadata": {
    "editable": false,
    "execution": {
     "iopub.execute_input": "2024-04-14T21:44:37.427824Z",
     "iopub.status.busy": "2024-04-14T21:44:37.424938Z",
     "iopub.status.idle": "2024-04-14T21:44:40.621789Z",
     "shell.execute_reply": "2024-04-14T21:44:40.620858Z"
    },
    "tags": []
   },
   "outputs": [],
   "source": [
    "// [THIS IS READ-ONLY]\n",
    "@file:DependsOn(\"/antlr-4.11.1-complete.jar\")\n",
    "@file:DependsOn(\"./target\")"
   ]
  },
  {
   "cell_type": "code",
   "execution_count": 2,
   "id": "3b38dfda-74cd-4464-a6e0-a42096ff8aab",
   "metadata": {
    "editable": false,
    "execution": {
     "iopub.execute_input": "2024-04-14T21:44:40.658938Z",
     "iopub.status.busy": "2024-04-14T21:44:40.657871Z",
     "iopub.status.idle": "2024-04-14T21:44:40.764364Z",
     "shell.execute_reply": "2024-04-14T21:44:40.763458Z"
    },
    "tags": []
   },
   "outputs": [],
   "source": [
    "// [THIS IS READ-ONLY]\n",
    "import org.antlr.v4.runtime.*\n",
    "import backend.*"
   ]
  },
  {
   "cell_type": "code",
   "execution_count": 3,
   "id": "87e5764c-c1cf-43f8-86b8-71f1e6bfae44",
   "metadata": {
    "editable": false,
    "execution": {
     "iopub.execute_input": "2024-04-14T21:44:40.768758Z",
     "iopub.status.busy": "2024-04-14T21:44:40.767693Z",
     "iopub.status.idle": "2024-04-14T21:44:41.681161Z",
     "shell.execute_reply": "2024-04-14T21:44:41.680462Z"
    },
    "tags": []
   },
   "outputs": [],
   "source": [
    "// [THIS IS READ-ONLY]\n",
    "fun execute(source:String) {\n",
    "    val errorlistener = object: BaseErrorListener() {\n",
    "        override fun syntaxError(recognizer: Recognizer<*,*>,\n",
    "               offendingSymbol: Any?,\n",
    "               line: Int,\n",
    "               pos: Int,\n",
    "               msg: String,\n",
    "               e: RecognitionException?) {\n",
    "            throw Exception(\"${e} at line:${line}, char:${pos}\")\n",
    "        }\n",
    "    }\n",
    "    val input = CharStreams.fromString(source)\n",
    "    val lexer = PLLexer(input).apply {\n",
    "        removeErrorListeners()\n",
    "        addErrorListener(errorlistener)\n",
    "    }\n",
    "    val tokens = CommonTokenStream(lexer)\n",
    "    val parser = PLParser(tokens).apply {\n",
    "        removeErrorListeners()\n",
    "        addErrorListener(errorlistener)\n",
    "    }    \n",
    "    \n",
    "    try {\n",
    "        val result = parser.program()\n",
    "        result.expr.eval(Runtime())\n",
    "    } catch(e:Exception) {\n",
    "        println(\"Error: ${e}\")\n",
    "    }\n",
    "}"
   ]
  },
  {
   "cell_type": "markdown",
   "id": "d02565aa-4e9f-4261-a185-d140b68c54f1",
   "metadata": {
    "editable": false
   },
   "source": [
    "## String arithmetics"
   ]
  },
  {
   "cell_type": "code",
   "execution_count": 4,
   "id": "b001c14e-2f45-48fc-82be-a98168bf2aa9",
   "metadata": {
    "editable": false,
    "execution": {
     "iopub.execute_input": "2024-04-14T21:44:41.685276Z",
     "iopub.status.busy": "2024-04-14T21:44:41.684458Z",
     "iopub.status.idle": "2024-04-14T21:44:41.802139Z",
     "shell.execute_reply": "2024-04-14T21:44:41.801414Z"
    },
    "tags": []
   },
   "outputs": [],
   "source": [
    "// [THIS IS READ-ONLY]\n",
    "val program1 = \"\"\"\n",
    "x = \"Hello\";\n",
    "y = \"World\";\n",
    "\n",
    "print(x ++ \" \" ++ y);\n",
    "\"\"\""
   ]
  },
  {
   "cell_type": "code",
   "execution_count": 5,
   "id": "b3c2857e",
   "metadata": {
    "execution": {
     "iopub.execute_input": "2024-04-14T21:44:41.805884Z",
     "iopub.status.busy": "2024-04-14T21:44:41.805082Z",
     "iopub.status.idle": "2024-04-14T21:44:41.997406Z",
     "shell.execute_reply": "2024-04-14T21:44:41.996680Z"
    },
    "tags": []
   },
   "outputs": [
    {
     "name": "stdout",
     "output_type": "stream",
     "text": [
      "Hello World\n"
     ]
    }
   ],
   "source": [
    "// [YOUR WORK HERE]\n",
    "// @workUnit\n",
    "// execute the program\n",
    "\n",
    "execute(program1)"
   ]
  },
  {
   "cell_type": "markdown",
   "id": "b4ad5b2d-b4b2-42e8-bbe1-0ecefb10102d",
   "metadata": {
    "editable": false
   },
   "source": [
    "## Mixed arithmetics"
   ]
  },
  {
   "cell_type": "code",
   "execution_count": 6,
   "id": "579a59aa-6074-4715-a248-bd553e9bddbf",
   "metadata": {
    "editable": false,
    "execution": {
     "iopub.execute_input": "2024-04-14T21:44:42.000628Z",
     "iopub.status.busy": "2024-04-14T21:44:41.999911Z",
     "iopub.status.idle": "2024-04-14T21:44:42.087250Z",
     "shell.execute_reply": "2024-04-14T21:44:42.086573Z"
    },
    "tags": []
   },
   "outputs": [],
   "source": [
    "// [THIS IS READ-ONLY]\n",
    "val program2 = \"\"\"\n",
    "x = \"woof \";\n",
    "y = \"Dog goes \" ++ (x * 2);\n",
    "\n",
    "print(y);\n",
    "\"\"\""
   ]
  },
  {
   "cell_type": "code",
   "execution_count": 7,
   "id": "629a437d",
   "metadata": {
    "execution": {
     "iopub.execute_input": "2024-04-14T21:44:42.090259Z",
     "iopub.status.busy": "2024-04-14T21:44:42.089621Z",
     "iopub.status.idle": "2024-04-14T21:44:42.262636Z",
     "shell.execute_reply": "2024-04-14T21:44:42.261968Z"
    },
    "tags": []
   },
   "outputs": [
    {
     "name": "stdout",
     "output_type": "stream",
     "text": [
      "Dog goes woof woof \n"
     ]
    }
   ],
   "source": [
    "// [YOUR WORK HERE]\n",
    "// @workUnit\n",
    "\n",
    "execute(program2)"
   ]
  },
  {
   "cell_type": "markdown",
   "id": "172ba344-0ce6-49c2-a5ac-d14eefdaffb4",
   "metadata": {
    "editable": false
   },
   "source": [
    "## Loops"
   ]
  },
  {
   "cell_type": "code",
   "execution_count": 8,
   "id": "eab62b5c-103d-4b9e-9244-61faa2571bd7",
   "metadata": {
    "editable": false,
    "execution": {
     "iopub.execute_input": "2024-04-14T21:44:42.266327Z",
     "iopub.status.busy": "2024-04-14T21:44:42.265399Z",
     "iopub.status.idle": "2024-04-14T21:44:42.356365Z",
     "shell.execute_reply": "2024-04-14T21:44:42.317239Z"
    },
    "tags": []
   },
   "outputs": [],
   "source": [
    "// [THIS IS READ-ONLY]\n",
    "val program3 = \"\"\"\n",
    "sum = 0\n",
    "for(i in 10..20) {\n",
    "  sum = sum + i;\n",
    "}\n",
    "\n",
    "print(sum)\n",
    "\"\"\""
   ]
  },
  {
   "cell_type": "code",
   "execution_count": 9,
   "id": "9f1ac87b",
   "metadata": {
    "execution": {
     "iopub.execute_input": "2024-04-14T21:44:42.377068Z",
     "iopub.status.busy": "2024-04-14T21:44:42.376688Z",
     "iopub.status.idle": "2024-04-14T21:44:42.463120Z",
     "shell.execute_reply": "2024-04-14T21:44:42.462475Z"
    },
    "tags": []
   },
   "outputs": [
    {
     "name": "stdout",
     "output_type": "stream",
     "text": [
      "Error: java.lang.Exception: null at line:3, char:0\n"
     ]
    }
   ],
   "source": [
    "// [YOUR WORK HERE]\n",
    "// @workUnit\n",
    "\n",
    "execute(program3)"
   ]
  },
  {
   "cell_type": "markdown",
   "id": "46585be1-3814-4ad5-83e8-6ff46f99b90f",
   "metadata": {
    "editable": false,
    "tags": []
   },
   "source": [
    "## Function"
   ]
  },
  {
   "cell_type": "code",
   "execution_count": 10,
   "id": "91e9c33b-9393-4de7-8e98-aa82d568df53",
   "metadata": {
    "editable": false,
    "execution": {
     "iopub.execute_input": "2024-04-14T21:44:42.466007Z",
     "iopub.status.busy": "2024-04-14T21:44:42.465377Z",
     "iopub.status.idle": "2024-04-14T21:44:42.517544Z",
     "shell.execute_reply": "2024-04-14T21:44:42.517014Z"
    },
    "tags": []
   },
   "outputs": [],
   "source": [
    "// [THIS IS READ-ONLY]\n",
    "val program4 = \"\"\"\n",
    "function greeting(name, message) {\n",
    "  x = \"Hi,\";\n",
    "  x = x ++ \" my name is \" ++ name ++ \".\";\n",
    "  print(x);\n",
    "  print(message);\n",
    "}\n",
    "\n",
    "greeting(\"Albert\", \"How are you?\");\n",
    "\"\"\""
   ]
  },
  {
   "cell_type": "code",
   "execution_count": 11,
   "id": "475f7864",
   "metadata": {
    "execution": {
     "iopub.execute_input": "2024-04-14T21:44:42.556562Z",
     "iopub.status.busy": "2024-04-14T21:44:42.519740Z",
     "iopub.status.idle": "2024-04-14T21:44:42.669466Z",
     "shell.execute_reply": "2024-04-14T21:44:42.668823Z"
    },
    "tags": []
   },
   "outputs": [
    {
     "name": "stdout",
     "output_type": "stream",
     "text": [
      "Hi, my name is Albert.\n",
      "How are you?\n"
     ]
    }
   ],
   "source": [
    "// [YOUR WORK HERE]\n",
    "// @workUnit\n",
    "\n",
    "execute(program4)"
   ]
  },
  {
   "cell_type": "markdown",
   "id": "aeb42862-8d8a-4a40-ae06-a5641eb8d2bf",
   "metadata": {
    "editable": false,
    "tags": []
   },
   "source": [
    "## Recursion"
   ]
  },
  {
   "cell_type": "code",
   "execution_count": 12,
   "id": "c39324da-96e3-4e61-a489-f23a7fc3f508",
   "metadata": {
    "editable": false,
    "execution": {
     "iopub.execute_input": "2024-04-14T21:44:42.672490Z",
     "iopub.status.busy": "2024-04-14T21:44:42.671894Z",
     "iopub.status.idle": "2024-04-14T21:44:42.756266Z",
     "shell.execute_reply": "2024-04-14T21:44:42.723093Z"
    },
    "tags": []
   },
   "outputs": [],
   "source": [
    "// [THIS IS READ-ONLY]\n",
    "val program5 = \"\"\"\n",
    "function factorial(n) {\n",
    "  if(n < 2) {\n",
    "    1;\n",
    "  } else {\n",
    "    n * factorial(n-1);\n",
    "  }\n",
    "}\n",
    "\n",
    "print(factorial(10));\n",
    "\"\"\""
   ]
  },
  {
   "cell_type": "code",
   "execution_count": 13,
   "id": "755cf3df",
   "metadata": {
    "execution": {
     "iopub.execute_input": "2024-04-14T21:44:42.759141Z",
     "iopub.status.busy": "2024-04-14T21:44:42.758579Z",
     "iopub.status.idle": "2024-04-14T21:44:42.819121Z",
     "shell.execute_reply": "2024-04-14T21:44:42.818395Z"
    },
    "tags": []
   },
   "outputs": [
    {
     "name": "stdout",
     "output_type": "stream",
     "text": [
      "3628800\n"
     ]
    }
   ],
   "source": [
    "// [YOUR WORK HERE]\n",
    "// @workUnit\n",
    "\n",
    "execute(program5)"
   ]
  },
  {
   "cell_type": "code",
   "execution_count": 14,
   "id": "eeaeeae2-571e-4a0c-8321-1968325ab79c",
   "metadata": {
    "execution": {
     "iopub.execute_input": "2024-04-14T21:44:42.821662Z",
     "iopub.status.busy": "2024-04-14T21:44:42.821130Z",
     "iopub.status.idle": "2024-04-14T21:44:42.898779Z",
     "shell.execute_reply": "2024-04-14T21:44:42.898295Z"
    }
   },
   "outputs": [],
   "source": [
    "// Program 3 confirm loop functionality"
   ]
  },
  {
   "cell_type": "code",
   "execution_count": 15,
   "id": "f0fd7699-ad4b-4cbb-8a85-ab44c323aa2d",
   "metadata": {
    "execution": {
     "iopub.execute_input": "2024-04-14T21:44:42.901623Z",
     "iopub.status.busy": "2024-04-14T21:44:42.900757Z",
     "iopub.status.idle": "2024-04-14T21:44:42.978809Z",
     "shell.execute_reply": "2024-04-14T21:44:42.978281Z"
    }
   },
   "outputs": [],
   "source": [
    "val program3 = \"\"\"\n",
    "sum = 0;\n",
    "for(i in 10..20) {\n",
    "  sum = sum + i;\n",
    "}\n",
    "\n",
    "print(sum);\n",
    "\"\"\""
   ]
  },
  {
   "cell_type": "code",
   "execution_count": 16,
   "id": "44e0fb2b-0519-4a94-b18e-d824e4472e5b",
   "metadata": {
    "execution": {
     "iopub.execute_input": "2024-04-14T21:44:42.981230Z",
     "iopub.status.busy": "2024-04-14T21:44:42.980832Z",
     "iopub.status.idle": "2024-04-14T21:44:43.066053Z",
     "shell.execute_reply": "2024-04-14T21:44:43.065592Z"
    }
   },
   "outputs": [
    {
     "name": "stdout",
     "output_type": "stream",
     "text": [
      "165\n"
     ]
    }
   ],
   "source": [
    "execute(program3)"
   ]
  },
  {
   "cell_type": "code",
   "execution_count": 17,
   "id": "64f36b34-6418-486c-bcf5-1d58310b6489",
   "metadata": {
    "execution": {
     "iopub.execute_input": "2024-04-14T21:44:43.068590Z",
     "iopub.status.busy": "2024-04-14T21:44:43.068149Z",
     "iopub.status.idle": "2024-04-14T21:44:43.157811Z",
     "shell.execute_reply": "2024-04-14T21:44:43.157323Z"
    }
   },
   "outputs": [],
   "source": [
    "// ==============================================================================\n",
    "// TESTING FOR AGGREGATE DATA VALUES BELOW\n",
    "// =============================================================================="
   ]
  },
  {
   "cell_type": "code",
   "execution_count": 18,
   "id": "81dcd329-eb69-45f2-8c26-6c98f6494557",
   "metadata": {
    "execution": {
     "iopub.execute_input": "2024-04-14T21:44:43.160142Z",
     "iopub.status.busy": "2024-04-14T21:44:43.159721Z",
     "iopub.status.idle": "2024-04-14T21:44:43.197937Z",
     "shell.execute_reply": "2024-04-14T21:44:43.197480Z"
    }
   },
   "outputs": [],
   "source": [
    "// check basic math"
   ]
  },
  {
   "cell_type": "code",
   "execution_count": 19,
   "id": "01d6c4b0-84a2-4359-9274-af75d2bd6364",
   "metadata": {
    "execution": {
     "iopub.execute_input": "2024-04-14T21:44:43.200241Z",
     "iopub.status.busy": "2024-04-14T21:44:43.199808Z",
     "iopub.status.idle": "2024-04-14T21:44:43.280914Z",
     "shell.execute_reply": "2024-04-14T21:44:43.280389Z"
    },
    "tags": []
   },
   "outputs": [],
   "source": [
    "val program1324 = \"\"\"\n",
    "sum = 0;\n",
    "x = 1;\n",
    "y = 2;\n",
    "sum = sum + x + y;\n",
    "\n",
    "print(sum);\n",
    "\"\"\""
   ]
  },
  {
   "cell_type": "code",
   "execution_count": 20,
   "id": "5b0dbb6a-9599-40c3-b2c3-11813c3cce97",
   "metadata": {
    "execution": {
     "iopub.execute_input": "2024-04-14T21:44:43.283248Z",
     "iopub.status.busy": "2024-04-14T21:44:43.282847Z",
     "iopub.status.idle": "2024-04-14T21:44:43.365382Z",
     "shell.execute_reply": "2024-04-14T21:44:43.364942Z"
    },
    "tags": []
   },
   "outputs": [
    {
     "name": "stdout",
     "output_type": "stream",
     "text": [
      "3\n"
     ]
    }
   ],
   "source": [
    "execute(program1324)"
   ]
  },
  {
   "cell_type": "code",
   "execution_count": 21,
   "id": "3e8fd704-899d-4f75-aac8-02f33a659a34",
   "metadata": {
    "execution": {
     "iopub.execute_input": "2024-04-14T21:44:43.367601Z",
     "iopub.status.busy": "2024-04-14T21:44:43.367185Z",
     "iopub.status.idle": "2024-04-14T21:44:43.402989Z",
     "shell.execute_reply": "2024-04-14T21:44:43.402599Z"
    }
   },
   "outputs": [],
   "source": [
    "// setval can be changed to any number and will naturally take place of the '1' value at the end\n",
    "// 10 + 9 + 8 + 7 + 6 + 5 + 4 + 3 + 2 + x = 55 where x = 2\n",
    "// 19 + 15 + 11 + 7 + 4\n",
    "// 19 + 11 + 15 + 11\n",
    "// 30 + 15 + 11 = 56"
   ]
  },
  {
   "cell_type": "code",
   "execution_count": 22,
   "id": "71e1586e-2946-4767-81ff-1d5db856d5b7",
   "metadata": {
    "execution": {
     "iopub.execute_input": "2024-04-14T21:44:43.405166Z",
     "iopub.status.busy": "2024-04-14T21:44:43.404730Z",
     "iopub.status.idle": "2024-04-14T21:44:43.479456Z",
     "shell.execute_reply": "2024-04-14T21:44:43.479054Z"
    },
    "tags": []
   },
   "outputs": [],
   "source": [
    "val program1325 = \"\"\"\n",
    "function setval(x){\n",
    "    2;\n",
    "}\n",
    "function recursiontest(n){\n",
    "    if(n < 2) {\n",
    "    setval(1);\n",
    "  } else {\n",
    "    n + recursiontest(n-1);\n",
    "  }\n",
    "}\n",
    "\n",
    "print(recursiontest(10));\n",
    "\"\"\""
   ]
  },
  {
   "cell_type": "code",
   "execution_count": 23,
   "id": "c5fc3dde-1fd8-494b-b60a-41a0f5515d21",
   "metadata": {
    "execution": {
     "iopub.execute_input": "2024-04-14T21:44:43.481715Z",
     "iopub.status.busy": "2024-04-14T21:44:43.481355Z",
     "iopub.status.idle": "2024-04-14T21:44:43.577864Z",
     "shell.execute_reply": "2024-04-14T21:44:43.577489Z"
    },
    "tags": []
   },
   "outputs": [
    {
     "name": "stdout",
     "output_type": "stream",
     "text": [
      "56\n"
     ]
    }
   ],
   "source": [
    "execute(program1325)"
   ]
  },
  {
   "cell_type": "code",
   "execution_count": 24,
   "id": "41524878-c8bb-4937-a815-0c880101dbce",
   "metadata": {
    "execution": {
     "iopub.execute_input": "2024-04-14T21:44:43.579948Z",
     "iopub.status.busy": "2024-04-14T21:44:43.579574Z",
     "iopub.status.idle": "2024-04-14T21:44:43.621645Z",
     "shell.execute_reply": "2024-04-14T21:44:43.621224Z"
    },
    "tags": []
   },
   "outputs": [],
   "source": [
    "val program1326 = \"\"\"\n",
    "function setval(x){\n",
    "    2;\n",
    "}\n",
    "function pancakes(n){\n",
    "    if(n < 2) {\n",
    "    1;\n",
    "  } else {\n",
    "    n + pancakes(n-setval(x));\n",
    "  }\n",
    "}\n",
    "\n",
    "print(pancakes(10));\n",
    "\"\"\""
   ]
  },
  {
   "cell_type": "code",
   "execution_count": 25,
   "id": "40099875-6243-4b9a-840e-8e402d6b5ccf",
   "metadata": {
    "execution": {
     "iopub.execute_input": "2024-04-14T21:44:43.623581Z",
     "iopub.status.busy": "2024-04-14T21:44:43.623229Z",
     "iopub.status.idle": "2024-04-14T21:44:43.707234Z",
     "shell.execute_reply": "2024-04-14T21:44:43.706821Z"
    },
    "tags": []
   },
   "outputs": [
    {
     "name": "stdout",
     "output_type": "stream",
     "text": [
      "31\n"
     ]
    }
   ],
   "source": [
    "execute(program1326)"
   ]
  },
  {
   "cell_type": "code",
   "execution_count": 26,
   "id": "bd214f3b-fa58-4c1e-8874-825aac57ae83",
   "metadata": {
    "execution": {
     "iopub.execute_input": "2024-04-14T21:44:43.709380Z",
     "iopub.status.busy": "2024-04-14T21:44:43.708922Z",
     "iopub.status.idle": "2024-04-14T21:44:43.783622Z",
     "shell.execute_reply": "2024-04-14T21:44:43.783228Z"
    },
    "tags": []
   },
   "outputs": [],
   "source": [
    "val program1327 = \"\"\"\n",
    "x = 2;\n",
    "function pancakes2(n){\n",
    "    if(n < 2) {\n",
    "    x;\n",
    "  } else {\n",
    "    n + pancakes2(n-1);\n",
    "  }\n",
    "}\n",
    "\n",
    "print(pancakes2(10));\n",
    "\"\"\""
   ]
  },
  {
   "cell_type": "code",
   "execution_count": 27,
   "id": "dfc82712-7cca-497a-8d3f-b004b2d8c94c",
   "metadata": {
    "execution": {
     "iopub.execute_input": "2024-04-14T21:44:43.785687Z",
     "iopub.status.busy": "2024-04-14T21:44:43.785314Z",
     "iopub.status.idle": "2024-04-14T21:44:43.867317Z",
     "shell.execute_reply": "2024-04-14T21:44:43.866810Z"
    },
    "tags": []
   },
   "outputs": [
    {
     "name": "stdout",
     "output_type": "stream",
     "text": [
      "56\n"
     ]
    }
   ],
   "source": [
    "execute(program1327)"
   ]
  },
  {
   "cell_type": "code",
   "execution_count": 28,
   "id": "75a52f61-7a3d-40fd-9ba9-0de9d91a3841",
   "metadata": {
    "execution": {
     "iopub.execute_input": "2024-04-14T21:44:43.869843Z",
     "iopub.status.busy": "2024-04-14T21:44:43.869466Z",
     "iopub.status.idle": "2024-04-14T21:44:43.915556Z",
     "shell.execute_reply": "2024-04-14T21:44:43.915125Z"
    },
    "tags": []
   },
   "outputs": [],
   "source": [
    "// REAL aggregate data values testing\n",
    "// seven() returns 7 (1+(2*3))\n",
    "// subtract(b) returns 2 (7-b-3) where b = 2\n",
    "// sum() returns 9 (2 + 7)\n",
    "// testloop() returns 15 (9 + 2 + 2 + 2)"
   ]
  },
  {
   "cell_type": "code",
   "execution_count": 29,
   "id": "30ad586c-adf9-43cc-b1c5-65c3978c59a9",
   "metadata": {
    "execution": {
     "iopub.execute_input": "2024-04-14T21:44:43.917896Z",
     "iopub.status.busy": "2024-04-14T21:44:43.917492Z",
     "iopub.status.idle": "2024-04-14T21:44:43.990705Z",
     "shell.execute_reply": "2024-04-14T21:44:43.990230Z"
    },
    "tags": []
   },
   "outputs": [],
   "source": [
    "val program42 = \"\"\"\n",
    "x = 1;\n",
    "y = 2;\n",
    "z = 3;\n",
    "function seven(a){\n",
    "    result1 = x + (y * z);\n",
    "    result1;\n",
    "}\n",
    "function subtract(b){\n",
    "    result2 = seven(1) - b - 3;\n",
    "    result2;\n",
    "}\n",
    "function sum(c){\n",
    "    result3 = subtract(2) + seven(1);\n",
    "    result3;\n",
    "}\n",
    "function testloop(d){\n",
    "    result4 = sum(1);\n",
    "    for(i in 1..3){\n",
    "        result4 = result4 + y;\n",
    "    }\n",
    "    result4;\n",
    "}\n",
    "\n",
    "print(testloop(1));\n",
    "\"\"\""
   ]
  },
  {
   "cell_type": "code",
   "execution_count": 30,
   "id": "58f03497-f3f9-4d8e-b1c5-f164c72287ff",
   "metadata": {
    "execution": {
     "iopub.execute_input": "2024-04-14T21:44:43.993329Z",
     "iopub.status.busy": "2024-04-14T21:44:43.992962Z",
     "iopub.status.idle": "2024-04-14T21:44:44.071039Z",
     "shell.execute_reply": "2024-04-14T21:44:44.070658Z"
    },
    "tags": []
   },
   "outputs": [
    {
     "name": "stdout",
     "output_type": "stream",
     "text": [
      "15\n"
     ]
    }
   ],
   "source": [
    "execute(program42)"
   ]
  },
  {
   "cell_type": "code",
   "execution_count": 31,
   "id": "b9ef1d88-4d2c-44fd-a935-8c317c18b899",
   "metadata": {
    "execution": {
     "iopub.execute_input": "2024-04-14T21:44:44.073682Z",
     "iopub.status.busy": "2024-04-14T21:44:44.073313Z",
     "iopub.status.idle": "2024-04-14T21:44:44.107008Z",
     "shell.execute_reply": "2024-04-14T21:44:44.106634Z"
    }
   },
   "outputs": [],
   "source": [
    "// ==============================================================================\n",
    "// STATIC TYPE CHECK TESTS\n",
    "// =============================================================================="
   ]
  },
  {
   "cell_type": "code",
   "execution_count": 32,
   "id": "3409009d-da6a-4d25-b8e6-e05a037db0ee",
   "metadata": {
    "execution": {
     "iopub.execute_input": "2024-04-14T21:44:44.108993Z",
     "iopub.status.busy": "2024-04-14T21:44:44.108637Z",
     "iopub.status.idle": "2024-04-14T21:44:44.185517Z",
     "shell.execute_reply": "2024-04-14T21:44:44.185109Z"
    }
   },
   "outputs": [],
   "source": [
    "val program88 = \"\"\"\n",
    "typecheck1 = 9 + 10;\n",
    "print(typecheck1(1));\n",
    "\"\"\""
   ]
  },
  {
   "cell_type": "code",
   "execution_count": 33,
   "id": "de224cfa-ba9b-4af6-bd1a-39f599cb1e94",
   "metadata": {
    "execution": {
     "iopub.execute_input": "2024-04-14T21:44:44.187697Z",
     "iopub.status.busy": "2024-04-14T21:44:44.187331Z",
     "iopub.status.idle": "2024-04-14T21:44:44.277962Z",
     "shell.execute_reply": "2024-04-14T21:44:44.277569Z"
    },
    "tags": []
   },
   "outputs": [
    {
     "name": "stdout",
     "output_type": "stream",
     "text": [
      "Error: java.lang.Exception: typecheck1 is not a function.\n"
     ]
    }
   ],
   "source": [
    "execute(program88)"
   ]
  },
  {
   "cell_type": "code",
   "execution_count": 34,
   "id": "4c2d0e5b-5445-44f2-b4cb-1d07dd997d88",
   "metadata": {
    "execution": {
     "iopub.execute_input": "2024-04-14T21:44:44.280255Z",
     "iopub.status.busy": "2024-04-14T21:44:44.279730Z",
     "iopub.status.idle": "2024-04-14T21:44:44.316870Z",
     "shell.execute_reply": "2024-04-14T21:44:44.316430Z"
    },
    "tags": []
   },
   "outputs": [],
   "source": [
    "val program89 = \"\"\"\n",
    "print(typecheck2(1));\n",
    "\"\"\""
   ]
  },
  {
   "cell_type": "code",
   "execution_count": 35,
   "id": "8ed90e20-59b2-4462-91f2-2cd69aa27b74",
   "metadata": {
    "execution": {
     "iopub.execute_input": "2024-04-14T21:44:44.318943Z",
     "iopub.status.busy": "2024-04-14T21:44:44.318595Z",
     "iopub.status.idle": "2024-04-14T21:44:44.391702Z",
     "shell.execute_reply": "2024-04-14T21:44:44.391308Z"
    },
    "tags": []
   },
   "outputs": [
    {
     "name": "stdout",
     "output_type": "stream",
     "text": [
      "Error: java.lang.Exception: typecheck2 does not exist.\n"
     ]
    }
   ],
   "source": [
    "execute(program89)"
   ]
  },
  {
   "cell_type": "code",
   "execution_count": 36,
   "id": "e7a76d17-2a3f-4e75-9af4-1045dd759606",
   "metadata": {
    "execution": {
     "iopub.execute_input": "2024-04-14T21:44:44.394073Z",
     "iopub.status.busy": "2024-04-14T21:44:44.393608Z",
     "iopub.status.idle": "2024-04-14T21:44:44.468302Z",
     "shell.execute_reply": "2024-04-14T21:44:44.467771Z"
    },
    "tags": []
   },
   "outputs": [],
   "source": [
    "val program90 = \"\"\"\n",
    "a = 1;\n",
    "b = 2;\n",
    "function sum(x,y){\n",
    "    result = x + y;\n",
    "    result;\n",
    "}\n",
    "print(sum(a,b,3));\n",
    "\"\"\""
   ]
  },
  {
   "cell_type": "code",
   "execution_count": 37,
   "id": "d76aa7ab-ae66-4587-bd3c-6568f85f6e4c",
   "metadata": {
    "execution": {
     "iopub.execute_input": "2024-04-14T21:44:44.470580Z",
     "iopub.status.busy": "2024-04-14T21:44:44.470229Z",
     "iopub.status.idle": "2024-04-14T21:44:44.514424Z",
     "shell.execute_reply": "2024-04-14T21:44:44.514045Z"
    },
    "tags": []
   },
   "outputs": [
    {
     "name": "stdout",
     "output_type": "stream",
     "text": [
      "Error: java.lang.Exception: sum expects 2 arguments, but 3 given.\n"
     ]
    }
   ],
   "source": [
    "execute(program90)"
   ]
  },
  {
   "cell_type": "code",
   "execution_count": 38,
   "id": "ea17ff02-0c6d-475d-bd75-4bc69bb3d5e3",
   "metadata": {
    "execution": {
     "iopub.execute_input": "2024-04-14T21:44:44.516434Z",
     "iopub.status.busy": "2024-04-14T21:44:44.516085Z",
     "iopub.status.idle": "2024-04-14T21:44:44.602174Z",
     "shell.execute_reply": "2024-04-14T21:44:44.601697Z"
    },
    "tags": []
   },
   "outputs": [],
   "source": [
    "val program91 = \"\"\"\n",
    "sum = true + 2;\n",
    "print(sum);\n",
    "\"\"\""
   ]
  },
  {
   "cell_type": "code",
   "execution_count": 39,
   "id": "9b519e8f-11fd-4a89-b568-5dfa40e6edc4",
   "metadata": {
    "execution": {
     "iopub.execute_input": "2024-04-14T21:44:44.604262Z",
     "iopub.status.busy": "2024-04-14T21:44:44.603907Z",
     "iopub.status.idle": "2024-04-14T21:44:44.681235Z",
     "shell.execute_reply": "2024-04-14T21:44:44.680842Z"
    },
    "tags": []
   },
   "outputs": [
    {
     "name": "stdout",
     "output_type": "stream",
     "text": [
      "Error: java.lang.RuntimeException: Non-integer operands for arithmetic operation\n"
     ]
    }
   ],
   "source": [
    "execute(program91)"
   ]
  },
  {
   "cell_type": "code",
   "execution_count": 40,
   "id": "6ee9edab-11a2-48d7-9147-2e7f1b02fa1f",
   "metadata": {
    "execution": {
     "iopub.execute_input": "2024-04-14T21:44:44.683302Z",
     "iopub.status.busy": "2024-04-14T21:44:44.682906Z",
     "iopub.status.idle": "2024-04-14T21:44:44.763498Z",
     "shell.execute_reply": "2024-04-14T21:44:44.763027Z"
    },
    "tags": []
   },
   "outputs": [],
   "source": [
    "val program92 = \"\"\"\n",
    "function typecheck(a){\n",
    "    x = \"2\";\n",
    "    y = 1;\n",
    "    result = y ++ x;\n",
    "    result;\n",
    "}\n",
    "print(typecheck(1));\n",
    "\"\"\""
   ]
  },
  {
   "cell_type": "code",
   "execution_count": 41,
   "id": "096eaeea-628f-4160-85fb-8c01e19029a9",
   "metadata": {
    "execution": {
     "iopub.execute_input": "2024-04-14T21:44:44.765362Z",
     "iopub.status.busy": "2024-04-14T21:44:44.765014Z",
     "iopub.status.idle": "2024-04-14T21:44:44.809791Z",
     "shell.execute_reply": "2024-04-14T21:44:44.809343Z"
    },
    "tags": []
   },
   "outputs": [
    {
     "name": "stdout",
     "output_type": "stream",
     "text": [
      "Error: java.lang.IllegalArgumentException: Type mismatch: at least one operand of a CONCAT operation must be a string\n"
     ]
    }
   ],
   "source": [
    "execute(program92)"
   ]
  },
  {
   "cell_type": "code",
   "execution_count": 42,
   "id": "12a50042-db27-41d7-acfe-27e84ebb64c7",
   "metadata": {
    "execution": {
     "iopub.execute_input": "2024-04-14T21:44:44.811753Z",
     "iopub.status.busy": "2024-04-14T21:44:44.811399Z",
     "iopub.status.idle": "2024-04-14T21:44:44.885490Z",
     "shell.execute_reply": "2024-04-14T21:44:44.885103Z"
    }
   },
   "outputs": [],
   "source": [
    "// ==============================================================================\n",
    "// LIST FUNCTIONALITY TESTS\n",
    "// =============================================================================="
   ]
  },
  {
   "cell_type": "code",
   "execution_count": 43,
   "id": "b375d946-8f64-43bf-9169-50e4754651b6",
   "metadata": {
    "execution": {
     "iopub.execute_input": "2024-04-14T21:44:44.887527Z",
     "iopub.status.busy": "2024-04-14T21:44:44.887167Z",
     "iopub.status.idle": "2024-04-14T21:44:44.965868Z",
     "shell.execute_reply": "2024-04-14T21:44:44.965427Z"
    }
   },
   "outputs": [],
   "source": [
    "// Appending and Indexing"
   ]
  },
  {
   "cell_type": "code",
   "execution_count": 44,
   "id": "eb9c762b-3739-4e6a-a360-d39f16b6c608",
   "metadata": {
    "execution": {
     "iopub.execute_input": "2024-04-14T21:44:44.968218Z",
     "iopub.status.busy": "2024-04-14T21:44:44.967766Z",
     "iopub.status.idle": "2024-04-14T21:44:45.069120Z",
     "shell.execute_reply": "2024-04-14T21:44:45.068623Z"
    },
    "tags": []
   },
   "outputs": [],
   "source": [
    "val program66 = \"\"\"\n",
    "List myList = [1,2,3];\n",
    "print(Append myList [4,5,6]);\n",
    "print(Index myList@2);\n",
    "\"\"\""
   ]
  },
  {
   "cell_type": "code",
   "execution_count": 45,
   "id": "292eb91a-55e7-4bb4-b810-5dd572f79307",
   "metadata": {
    "execution": {
     "iopub.execute_input": "2024-04-14T21:44:45.071202Z",
     "iopub.status.busy": "2024-04-14T21:44:45.070832Z",
     "iopub.status.idle": "2024-04-14T21:44:45.166171Z",
     "shell.execute_reply": "2024-04-14T21:44:45.165782Z"
    },
    "tags": []
   },
   "outputs": [
    {
     "name": "stdout",
     "output_type": "stream",
     "text": [
      "[1, 2, 3, 4, 5, 6]\n",
      "3\n"
     ]
    }
   ],
   "source": [
    "execute(program66)"
   ]
  },
  {
   "cell_type": "code",
   "execution_count": 46,
   "id": "25d30b28-49ae-4f25-906e-bf3ceb6ba91e",
   "metadata": {
    "execution": {
     "iopub.execute_input": "2024-04-14T21:44:45.168088Z",
     "iopub.status.busy": "2024-04-14T21:44:45.167722Z",
     "iopub.status.idle": "2024-04-14T21:44:45.209300Z",
     "shell.execute_reply": "2024-04-14T21:44:45.208823Z"
    }
   },
   "outputs": [],
   "source": [
    "// Changing values through looping with a function"
   ]
  },
  {
   "cell_type": "code",
   "execution_count": 47,
   "id": "9a83ae5a-75ae-4785-89e0-881017aa8f7e",
   "metadata": {
    "execution": {
     "iopub.execute_input": "2024-04-14T21:44:45.211534Z",
     "iopub.status.busy": "2024-04-14T21:44:45.211177Z",
     "iopub.status.idle": "2024-04-14T21:44:45.269386Z",
     "shell.execute_reply": "2024-04-14T21:44:45.268993Z"
    },
    "tags": []
   },
   "outputs": [],
   "source": [
    "val program67 = \"\"\"\n",
    "function setOne(_val){\n",
    "    1;\n",
    "}\n",
    "List myList2 = [1,2,3];\n",
    "print([setOne(val) for val in myList2]);\n",
    "\"\"\""
   ]
  },
  {
   "cell_type": "code",
   "execution_count": 48,
   "id": "8a8311ce-50bd-49dc-91fa-2c6087d2e454",
   "metadata": {
    "execution": {
     "iopub.execute_input": "2024-04-14T21:44:45.271256Z",
     "iopub.status.busy": "2024-04-14T21:44:45.270898Z",
     "iopub.status.idle": "2024-04-14T21:44:45.316022Z",
     "shell.execute_reply": "2024-04-14T21:44:45.315614Z"
    },
    "tags": []
   },
   "outputs": [
    {
     "name": "stdout",
     "output_type": "stream",
     "text": [
      "[1, 1, 1]\n"
     ]
    }
   ],
   "source": [
    "execute(program67)"
   ]
  },
  {
   "cell_type": "code",
   "execution_count": 49,
   "id": "5303413e-e880-4b15-b54d-fff6b08dc649",
   "metadata": {
    "execution": {
     "iopub.execute_input": "2024-04-14T21:44:45.317890Z",
     "iopub.status.busy": "2024-04-14T21:44:45.317540Z",
     "iopub.status.idle": "2024-04-14T21:44:45.378790Z",
     "shell.execute_reply": "2024-04-14T21:44:45.378313Z"
    }
   },
   "outputs": [],
   "source": [
    "// List Slicing"
   ]
  },
  {
   "cell_type": "code",
   "execution_count": 50,
   "id": "60bab074-531f-4c7e-9e3c-8f656f5d441f",
   "metadata": {
    "execution": {
     "iopub.execute_input": "2024-04-14T21:44:45.380648Z",
     "iopub.status.busy": "2024-04-14T21:44:45.380278Z",
     "iopub.status.idle": "2024-04-14T21:44:45.464043Z",
     "shell.execute_reply": "2024-04-14T21:44:45.463517Z"
    },
    "tags": []
   },
   "outputs": [],
   "source": [
    "val program68 = \"\"\"\n",
    "List myList3 = [1,2,3,4,5];\n",
    "print(Slice myList3[1:4]);\n",
    "\"\"\""
   ]
  },
  {
   "cell_type": "code",
   "execution_count": 51,
   "id": "ba58edc5-4dc7-4d5c-a736-605fa895d0e9",
   "metadata": {
    "execution": {
     "iopub.execute_input": "2024-04-14T21:44:45.465972Z",
     "iopub.status.busy": "2024-04-14T21:44:45.465626Z",
     "iopub.status.idle": "2024-04-14T21:44:45.556661Z",
     "shell.execute_reply": "2024-04-14T21:44:45.556361Z"
    },
    "tags": []
   },
   "outputs": [
    {
     "name": "stdout",
     "output_type": "stream",
     "text": [
      "[2, 3, 4]\n"
     ]
    }
   ],
   "source": [
    "execute(program68)"
   ]
  },
  {
   "cell_type": "code",
   "execution_count": 52,
   "id": "bfebe608-cbc6-46fd-9c47-a083621b9a85",
   "metadata": {
    "execution": {
     "iopub.execute_input": "2024-04-14T21:44:45.558555Z",
     "iopub.status.busy": "2024-04-14T21:44:45.558205Z",
     "iopub.status.idle": "2024-04-14T21:44:45.656729Z",
     "shell.execute_reply": "2024-04-14T21:44:45.656392Z"
    }
   },
   "outputs": [],
   "source": [
    "// Each item in a List can be used in Arithmetic"
   ]
  },
  {
   "cell_type": "code",
   "execution_count": 53,
   "id": "c12f363f-e27f-4f5e-9d6f-536f8cf48d69",
   "metadata": {
    "execution": {
     "iopub.execute_input": "2024-04-14T21:44:45.658716Z",
     "iopub.status.busy": "2024-04-14T21:44:45.658371Z",
     "iopub.status.idle": "2024-04-14T21:44:45.704247Z",
     "shell.execute_reply": "2024-04-14T21:44:45.703762Z"
    },
    "tags": []
   },
   "outputs": [],
   "source": [
    "val program69 = \"\"\"\n",
    "List var = [1,2,3];\n",
    "function plusOne(_val) {\n",
    "  _val + 1;\n",
    "}\n",
    "print(plusOne(Index var@0));\n",
    "print(plusOne(Index var@1));\n",
    "print(plusOne(Index var@2));\n",
    "\"\"\""
   ]
  },
  {
   "cell_type": "code",
   "execution_count": 54,
   "id": "dafe3310-c565-432a-85bb-db8a90f23a9f",
   "metadata": {
    "execution": {
     "iopub.execute_input": "2024-04-14T21:44:45.706288Z",
     "iopub.status.busy": "2024-04-14T21:44:45.705936Z",
     "iopub.status.idle": "2024-04-14T21:44:45.798121Z",
     "shell.execute_reply": "2024-04-14T21:44:45.797755Z"
    },
    "tags": []
   },
   "outputs": [
    {
     "name": "stdout",
     "output_type": "stream",
     "text": [
      "2\n",
      "3\n",
      "4\n"
     ]
    }
   ],
   "source": [
    "execute(program69)"
   ]
  }
 ],
 "metadata": {
  "kernelspec": {
   "display_name": "Kotlin",
   "language": "kotlin",
   "name": "kotlin"
  },
  "language_info": {
   "codemirror_mode": "text/x-kotlin",
   "file_extension": ".kt",
   "mimetype": "text/x-kotlin",
   "name": "kotlin",
   "nbconvert_exporter": "",
   "pygments_lexer": "kotlin",
   "version": "1.8.0-dev-707"
  }
 },
 "nbformat": 4,
 "nbformat_minor": 5
}
