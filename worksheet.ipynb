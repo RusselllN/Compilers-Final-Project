{
 "cells": [
  {
   "cell_type": "markdown",
   "id": "f2dd921e-534b-4e5c-9c36-492f72910813",
   "metadata": {
    "editable": false,
    "tags": []
   },
   "source": [
    "# Assignment 3"
   ]
  },
  {
   "cell_type": "code",
   "execution_count": 1,
   "id": "6d9f978f-67c5-40cf-a9d9-53598ffab8e4",
   "metadata": {
    "tags": []
   },
   "outputs": [],
   "source": [
    "@file:DependsOn(\"/usr/local/lib/antlr-4.11.1-complete.jar\")\n",
    "@file:DependsOn(\"./target\")\n",
    "import org.antlr.v4.runtime.*\n",
    "import backend.*\n",
    "\n",
    "fun execute(source: String) {\n",
    "    val errorlistener = object: BaseErrorListener() {\n",
    "        override fun syntaxError(recognizer: Recognizer<*,*>,\n",
    "               offendingSymbol: Any?,\n",
    "               line: Int,\n",
    "               pos: Int,\n",
    "               msg: String,\n",
    "               e: RecognitionException?) {\n",
    "            throw Exception(\"${e} at line:${line}, char:${pos}, msg:${msg}, symbol:${offendingSymbol}\")\n",
    "        }\n",
    "    }\n",
    "//     // Token printing\n",
    "//     val input = CharStreams.fromString(source)\n",
    "//     val lexer = PLLexer(input).apply {\n",
    "//         removeErrorListeners() // Optional: remove default error listeners\n",
    "//     }\n",
    "//     val tokens = CommonTokenStream(lexer)\n",
    "//     tokens.fill() // Load all tokens\n",
    "\n",
    "//     println(\"Tokens:\")\n",
    "//     for (token in tokens.getTokens()) {\n",
    "//         val tokenType = lexer.vocabulary.getSymbolicName(token.type)\n",
    "//         val text = token.text\n",
    "//         println(\"Token Type: $tokenType => Text: '$text'\")\n",
    "//     }\n",
    "\n",
    "    // Parsing and execution\n",
    "    val parserInput = CharStreams.fromString(source)\n",
    "    val parserLexer = PLLexer(parserInput).apply {\n",
    "        removeErrorListeners()\n",
    "    }\n",
    "    val parserTokens = CommonTokenStream(parserLexer)\n",
    "    val parser = PLParser(parserTokens).apply {\n",
    "        removeErrorListeners()\n",
    "        addErrorListener(errorlistener)\n",
    "    }\n",
    "    // println(\"Parser tokens: $parser\")\n",
    "\n",
    "    try {\n",
    "       //  println(\"\\nParsed Values:\")\n",
    "        val result = parser.program()\n",
    "        val e = result.expr\n",
    "        println(result.expr.eval(Runtime()))\n",
    "        // println(result.toStringTree(parser))\n",
    "    } catch(e:Exception) {\n",
    "        println(\"Error: ${e}\")\n",
    "    }\n",
    "}"
   ]
  },
  {
   "cell_type": "markdown",
   "id": "d02565aa-4e9f-4261-a185-d140b68c54f1",
   "metadata": {
    "editable": false
   },
   "source": [
    "## String arithmetics"
   ]
  },
  {
   "cell_type": "code",
   "execution_count": 2,
   "id": "b3c2857e",
   "metadata": {
    "tags": []
   },
   "outputs": [
    {
     "name": "stdout",
     "output_type": "stream",
     "text": [
      "Hello World\n",
      "None\n"
     ]
    }
   ],
   "source": [
    "// [YOUR WORK HERE]\n",
    "// @workUnit\n",
    "// execute the program\n",
    "\n",
    "val program1 = \"\"\"\n",
    "x = \"Hello\";\n",
    "y = \"World\";\n",
    "\n",
    "print(x ++ \" \" ++ y);\n",
    "\"\"\"\n",
    "\n",
    "execute(program1)"
   ]
  },
  {
   "cell_type": "markdown",
   "id": "b4ad5b2d-b4b2-42e8-bbe1-0ecefb10102d",
   "metadata": {
    "editable": false
   },
   "source": [
    "## Mixed arithmetics"
   ]
  },
  {
   "cell_type": "code",
   "execution_count": 3,
   "id": "579a59aa-6074-4715-a248-bd553e9bddbf",
   "metadata": {
    "editable": false,
    "tags": []
   },
   "outputs": [],
   "source": [
    "// [THIS IS READ-ONLY]\n",
    "val program2 = \"\"\"\n",
    "x = \"woof \";\n",
    "y = \"Dog goes \" ++ (x * 2);\n",
    "\n",
    "print(y);\n",
    "\"\"\""
   ]
  },
  {
   "cell_type": "code",
   "execution_count": 4,
   "id": "629a437d",
   "metadata": {
    "tags": []
   },
   "outputs": [
    {
     "name": "stdout",
     "output_type": "stream",
     "text": [
      "Dog goes woof woof \n",
      "None\n"
     ]
    }
   ],
   "source": [
    "// [YOUR WORK HERE]\n",
    "// @workUnit\n",
    "\n",
    "execute(program2)"
   ]
  },
  {
   "cell_type": "markdown",
   "id": "172ba344-0ce6-49c2-a5ac-d14eefdaffb4",
   "metadata": {
    "editable": false
   },
   "source": [
    "## Loops"
   ]
  },
  {
   "cell_type": "code",
   "execution_count": 5,
   "id": "d350a18d-98d3-4493-bd83-4f5f4beeb38d",
   "metadata": {
    "tags": []
   },
   "outputs": [],
   "source": [
    "// [THIS IS READ-ONLY]\n",
    "val program3 = \"\"\"\n",
    "sum = 0;\n",
    "for(i in 10..20) {\n",
    "  sum = sum + i;\n",
    "}\n",
    "\n",
    "print(sum);\n",
    "\"\"\""
   ]
  },
  {
   "cell_type": "code",
   "execution_count": 6,
   "id": "9f1ac87b",
   "metadata": {
    "tags": []
   },
   "outputs": [
    {
     "name": "stdout",
     "output_type": "stream",
     "text": [
      "165\n",
      "None\n"
     ]
    }
   ],
   "source": [
    "// [YOUR WORK HERE]\n",
    "// @workUnit\n",
    "\n",
    "execute(program3)"
   ]
  },
  {
   "cell_type": "markdown",
   "id": "46585be1-3814-4ad5-83e8-6ff46f99b90f",
   "metadata": {
    "editable": false,
    "tags": []
   },
   "source": [
    "## Function"
   ]
  },
  {
   "cell_type": "code",
   "execution_count": 7,
   "id": "91e9c33b-9393-4de7-8e98-aa82d568df53",
   "metadata": {
    "editable": false,
    "tags": []
   },
   "outputs": [],
   "source": [
    "// [THIS IS READ-ONLY]\n",
    "val program4 = \"\"\"\n",
    "function greeting(name, message) {\n",
    "  x = \"Hi,\";\n",
    "  x = x ++ \" my name is \" ++ name ++ \".\";\n",
    "  print(x);\n",
    "  print(message);\n",
    "}\n",
    "\n",
    "greeting(\"Albert\", \"How are you?\");\n",
    "\"\"\""
   ]
  },
  {
   "cell_type": "code",
   "execution_count": 8,
   "id": "475f7864",
   "metadata": {
    "tags": []
   },
   "outputs": [
    {
     "name": "stdout",
     "output_type": "stream",
     "text": [
      "Hi, my name is Albert.\n",
      "How are you?\n",
      "None\n"
     ]
    }
   ],
   "source": [
    "// [YOUR WORK HERE]\n",
    "// @workUnit\n",
    "\n",
    "execute(program4)"
   ]
  },
  {
   "cell_type": "markdown",
   "id": "aeb42862-8d8a-4a40-ae06-a5641eb8d2bf",
   "metadata": {
    "editable": false,
    "tags": []
   },
   "source": [
    "## Recursion"
   ]
  },
  {
   "cell_type": "code",
   "execution_count": 9,
   "id": "c39324da-96e3-4e61-a489-f23a7fc3f508",
   "metadata": {
    "editable": false,
    "tags": []
   },
   "outputs": [],
   "source": [
    "// [THIS IS READ-ONLY]\n",
    "val program5 = \"\"\"\n",
    "function factorial(n) {\n",
    "  if(n < 2) {\n",
    "    1;\n",
    "  } else {\n",
    "    n * factorial(n-1);\n",
    "  }\n",
    "}\n",
    "\n",
    "print(factorial(10));\n",
    "\"\"\""
   ]
  },
  {
   "cell_type": "code",
   "execution_count": 10,
   "id": "755cf3df",
   "metadata": {
    "tags": []
   },
   "outputs": [
    {
     "name": "stdout",
     "output_type": "stream",
     "text": [
      "3628800\n",
      "None\n"
     ]
    }
   ],
   "source": [
    "// [YOUR WORK HERE]\n",
    "// @workUnit\n",
    "\n",
    "execute(program5)"
   ]
  },
  {
   "cell_type": "markdown",
   "id": "7e191c6d",
   "metadata": {},
   "source": [
    "# Type Casting"
   ]
  },
  {
   "cell_type": "code",
   "execution_count": null,
   "id": "c7ed5a33",
   "metadata": {},
   "outputs": [],
   "source": []
  }
 ],
 "metadata": {
  "kernelspec": {
   "display_name": "Kotlin",
   "language": "kotlin",
   "name": "kotlin"
  },
  "language_info": {
   "codemirror_mode": "text/x-kotlin",
   "file_extension": ".kt",
   "mimetype": "text/x-kotlin",
   "name": "kotlin",
   "nbconvert_exporter": "",
   "pygments_lexer": "kotlin",
   "version": "1.9.10"
  }
 },
 "nbformat": 4,
 "nbformat_minor": 5
}
